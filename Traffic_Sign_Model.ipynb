{
 "cells": [
  {
   "cell_type": "markdown",
   "id": "45c36fdd",
   "metadata": {},
   "source": [
    "# Import required libraries"
   ]
  },
  {
   "cell_type": "code",
   "execution_count": 1,
   "id": "2173d70c",
   "metadata": {},
   "outputs": [],
   "source": [
    "import numpy as np \n",
    "import pandas as pd \n",
    "import matplotlib.pyplot as plt\n",
    "import cv2\n",
    "import tensorflow as tf\n",
    "from PIL import Image\n",
    "import os\n",
    "os.chdir('Dataset')\n",
    "from sklearn.model_selection import train_test_split\n",
    "from keras.utils import to_categorical\n",
    "from keras.models import Sequential, load_model\n",
    "from keras.layers import Conv2D, MaxPool2D, Dense, Flatten, Dropout"
   ]
  },
  {
   "cell_type": "markdown",
   "id": "618c17f4",
   "metadata": {},
   "source": [
    "\n",
    "# Store data, labels in the list"
   ]
  },
  {
   "cell_type": "code",
   "execution_count": 2,
   "id": "f19e3c21",
   "metadata": {},
   "outputs": [],
   "source": [
    "data = []\n",
    "labels = []\n",
    "\n",
    "classes = 43    # We have 43 Classes\n",
    "cur_path = os.getcwd()"
   ]
  },
  {
   "cell_type": "markdown",
   "id": "39d0b27f",
   "metadata": {},
   "source": [
    "# Preprocess the images\n"
   ]
  },
  {
   "cell_type": "code",
   "execution_count": 3,
   "id": "5e2f7223",
   "metadata": {},
   "outputs": [
    {
     "data": {
      "text/plain": [
       "'C:\\\\Users\\\\awaje\\\\Traffic-Sign-Detection-\\\\Dataset'"
      ]
     },
     "execution_count": 3,
     "metadata": {},
     "output_type": "execute_result"
    }
   ],
   "source": [
    "cur_path"
   ]
  },
  {
   "cell_type": "code",
   "execution_count": 4,
   "id": "39f2ed64",
   "metadata": {},
   "outputs": [],
   "source": [
    "for i in range(classes):\n",
    "    path = os.path.join(cur_path,'train',str(i))\n",
    "    images = os.listdir(path)\n",
    "    for a in images:\n",
    "        try:\n",
    "            image = Image.open(path + '\\\\'+ a)\n",
    "            image = image.resize((30,30))\n",
    "            image = np.array(image)\n",
    "            data.append(image)\n",
    "            labels.append(i)\n",
    "        except Exception as e:\n",
    "            print(e)"
   ]
  },
  {
   "cell_type": "markdown",
   "id": "96d533c8",
   "metadata": {},
   "source": [
    "# Converting lists into numpy arrays"
   ]
  },
  {
   "cell_type": "code",
   "execution_count": 5,
   "id": "2d71296e",
   "metadata": {},
   "outputs": [],
   "source": [
    "data = np.array(data)\n",
    "labels = np.array(labels)"
   ]
  },
  {
   "cell_type": "markdown",
   "id": "2791b5f9",
   "metadata": {},
   "source": [
    "# Save Labels & Data for future use"
   ]
  },
  {
   "cell_type": "code",
   "execution_count": 6,
   "id": "15b2ca04",
   "metadata": {},
   "outputs": [
    {
     "name": "stdout",
     "output_type": "stream",
     "text": [
      "(39209, 30, 30, 3) (39209,)\n"
     ]
    }
   ],
   "source": [
    "print(data.shape, labels.shape)"
   ]
  },
  {
   "cell_type": "markdown",
   "id": "4a63c864",
   "metadata": {},
   "source": [
    "# Splitting training and testing dataset"
   ]
  },
  {
   "cell_type": "code",
   "execution_count": 7,
   "id": "94925b16",
   "metadata": {
    "scrolled": true
   },
   "outputs": [
    {
     "name": "stdout",
     "output_type": "stream",
     "text": [
      "(31367, 30, 30, 3) (7842, 30, 30, 3) (31367,) (7842,)\n"
     ]
    }
   ],
   "source": [
    "X_train, X_test, y_train, y_test = train_test_split(data, labels, test_size=0.2, random_state=42)\n",
    "print(X_train.shape, X_test.shape, y_train.shape, y_test.shape)"
   ]
  },
  {
   "cell_type": "markdown",
   "id": "d8ee3255",
   "metadata": {},
   "source": [
    "# Converting the labels into one hot encoding"
   ]
  },
  {
   "cell_type": "code",
   "execution_count": 8,
   "id": "4d8aeebd",
   "metadata": {},
   "outputs": [],
   "source": [
    "y_train = to_categorical(y_train, 43)\n",
    "y_test = to_categorical(y_test, 43)"
   ]
  },
  {
   "cell_type": "markdown",
   "id": "0ac44ac7",
   "metadata": {},
   "source": [
    "# The model"
   ]
  },
  {
   "cell_type": "code",
   "execution_count": 9,
   "id": "1ea440aa",
   "metadata": {},
   "outputs": [],
   "source": [
    "model = Sequential()\n",
    "model.add(Conv2D(filters=32, kernel_size=(5,5), activation='relu', input_shape=X_train.shape[1:]))\n",
    "model.add(Conv2D(filters=32, kernel_size=(5,5), activation='relu'))\n",
    "model.add(MaxPool2D(pool_size=(2, 2)))\n",
    "model.add(Dropout(rate=0.25))\n",
    "model.add(Conv2D(filters=64, kernel_size=(3, 3), activation='relu'))\n",
    "model.add(Conv2D(filters=64, kernel_size=(3, 3), activation='relu'))\n",
    "model.add(MaxPool2D(pool_size=(2, 2)))\n",
    "model.add(Dropout(rate=0.25))\n",
    "model.add(Flatten())\n",
    "model.add(Dense(256, activation='relu'))\n",
    "model.add(Dropout(rate=0.5))\n",
    "model.add(Dense(43, activation='softmax'))"
   ]
  },
  {
   "cell_type": "markdown",
   "id": "2a328c0d",
   "metadata": {},
   "source": [
    "# Compilation of the model"
   ]
  },
  {
   "cell_type": "code",
   "execution_count": 17,
   "id": "666bab4f",
   "metadata": {
    "scrolled": true
   },
   "outputs": [
    {
     "name": "stdout",
     "output_type": "stream",
     "text": [
      "Epoch 1/15\n",
      "981/981 [==============================] - 53s 54ms/step - loss: 3.4909 - accuracy: 0.0574 - val_loss: 3.4800 - val_accuracy: 0.0574\n",
      "Epoch 2/15\n",
      "981/981 [==============================] - 55s 56ms/step - loss: 3.4910 - accuracy: 0.0549 - val_loss: 3.4788 - val_accuracy: 0.0574\n",
      "Epoch 3/15\n",
      "981/981 [==============================] - 55s 56ms/step - loss: 3.4910 - accuracy: 0.0552 - val_loss: 3.4784 - val_accuracy: 0.0574\n",
      "Epoch 4/15\n",
      "981/981 [==============================] - 55s 56ms/step - loss: 3.4909 - accuracy: 0.0560 - val_loss: 3.4780 - val_accuracy: 0.0574\n",
      "Epoch 5/15\n",
      "981/981 [==============================] - 55s 56ms/step - loss: 3.4907 - accuracy: 0.0559 - val_loss: 3.4789 - val_accuracy: 0.0574\n",
      "Epoch 6/15\n",
      "981/981 [==============================] - 55s 56ms/step - loss: 3.4907 - accuracy: 0.0554 - val_loss: 3.4801 - val_accuracy: 0.0574\n",
      "Epoch 7/15\n",
      "981/981 [==============================] - 55s 56ms/step - loss: 3.4901 - accuracy: 0.0555 - val_loss: 3.4785 - val_accuracy: 0.0574\n",
      "Epoch 8/15\n",
      "981/981 [==============================] - 57s 58ms/step - loss: 3.4907 - accuracy: 0.0558 - val_loss: 3.4792 - val_accuracy: 0.0574\n",
      "Epoch 9/15\n",
      "981/981 [==============================] - 56s 57ms/step - loss: 3.4908 - accuracy: 0.0552 - val_loss: 3.4792 - val_accuracy: 0.0574\n",
      "Epoch 10/15\n",
      "981/981 [==============================] - 55s 56ms/step - loss: 3.4900 - accuracy: 0.0575 - val_loss: 3.4784 - val_accuracy: 0.0574\n",
      "Epoch 11/15\n",
      "981/981 [==============================] - 56s 57ms/step - loss: 3.4908 - accuracy: 0.0553 - val_loss: 3.4789 - val_accuracy: 0.0574\n",
      "Epoch 12/15\n",
      "981/981 [==============================] - 57s 58ms/step - loss: 3.4906 - accuracy: 0.0561 - val_loss: 3.4792 - val_accuracy: 0.0574\n",
      "Epoch 13/15\n",
      "981/981 [==============================] - 57s 58ms/step - loss: 3.4903 - accuracy: 0.0560 - val_loss: 3.4796 - val_accuracy: 0.0574\n",
      "Epoch 14/15\n",
      "981/981 [==============================] - 56s 57ms/step - loss: 3.4903 - accuracy: 0.0551 - val_loss: 3.4784 - val_accuracy: 0.0574\n",
      "Epoch 15/15\n",
      "981/981 [==============================] - 56s 57ms/step - loss: 3.4903 - accuracy: 0.0556 - val_loss: 3.4790 - val_accuracy: 0.0574\n"
     ]
    }
   ],
   "source": [
    "model.compile(loss='categorical_crossentropy', optimizer='adam', metrics=['accuracy'])\n",
    "epochs = 15\n",
    "history = model.fit(X_train, y_train, batch_size=32, epochs=epochs, validation_data=(X_test, y_test))"
   ]
  },
  {
   "cell_type": "markdown",
   "id": "cd517751",
   "metadata": {},
   "source": [
    "# Plotting graphs for accuracy "
   ]
  },
  {
   "cell_type": "code",
   "execution_count": 11,
   "id": "b2e858bd",
   "metadata": {},
   "outputs": [
    {
     "data": {
      "image/png": "[encoded data removed]",
      "text/plain": [
       "<Figure size 432x288 with 1 Axes>"
      ]
     },
     "metadata": {
      "needs_background": "light"
     },
     "output_type": "display_data"
    }
   ],
   "source": [
    "plt.figure(0)\n",
    "plt.plot(history.history['accuracy'], label='training accuracy')\n",
    "plt.plot(history.history['val_accuracy'], label='val accuracy')\n",
    "plt.title('Accuracy')\n",
    "plt.xlabel('epochs')\n",
    "plt.ylabel('accuracy')\n",
    "plt.legend()\n",
    "plt.show()"
   ]
  },
  {
   "cell_type": "code",
   "execution_count": 12,
   "id": "ee4fb014",
   "metadata": {},
   "outputs": [
    {
     "data": {
      "image/png": "[encoded data removed]",
      "text/plain": [
       "<Figure size 432x288 with 1 Axes>"
      ]
     },
     "metadata": {
      "needs_background": "light"
     },
     "output_type": "display_data"
    }
   ],
   "source": [
    "plt.figure(1)\n",
    "plt.plot(history.history['loss'], label='training loss')\n",
    "plt.plot(history.history['val_loss'], label='val loss')\n",
    "plt.title('Loss')\n",
    "plt.xlabel('epochs')\n",
    "plt.ylabel('loss')\n",
    "plt.legend()\n",
    "plt.show()"
   ]
  },
  {
   "cell_type": "code",
   "execution_count": 18,
   "id": "332756ca",
   "metadata": {},
   "outputs": [],
   "source": [
    "from tensorflow.keras.models import load_model\n",
    "model.save('traffic_classifier.h5')"
   ]
  },
  {
   "cell_type": "code",
   "execution_count": 19,
   "id": "47cfd1e6",
   "metadata": {},
   "outputs": [],
   "source": [
    "from tensorflow.keras.models import load_model\n",
    "model = load_model('traffic_classifier.h5')"
   ]
  },
  {
   "cell_type": "code",
   "execution_count": null,
   "id": "0f1de9f3",
   "metadata": {},
   "outputs": [],
   "source": []
  },
  {
   "cell_type": "code",
   "execution_count": null,
   "id": "4eea4b35",
   "metadata": {},
   "outputs": [],
   "source": []
  }
 ],
 "metadata": {
  "kernelspec": {
   "display_name": "Python 3 (ipykernel)",
   "language": "python",
   "name": "python3"
  },
  "language_info": {
   "codemirror_mode": {
    "name": "ipython",
    "version": 3
   },
   "file_extension": ".py",
   "mimetype": "text/x-python",
   "name": "python",
   "nbconvert_exporter": "python",
   "pygments_lexer": "ipython3",
   "version": "3.9.12"
  }
 },
 "nbformat": 4,
 "nbformat_minor": 5
}
